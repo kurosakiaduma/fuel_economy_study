{
 "cells": [
  {
   "cell_type": "code",
   "execution_count": null,
   "id": "65490fda",
   "metadata": {},
   "outputs": [],
   "source": [
    "import pandas as pd\n",
    "import matplotlib.pyplot as plt\n",
    "import numpy as np\n",
    "import seaborn as sns\n",
    "from fractions import Fraction\n",
    "\n",
    "import plotly.express as px\n",
    "\n",
    "pd.set_option('display.max_columns', None)\n",
    "pd.options.mode.chained_assignment = None\n",
    "\n",
    "%matplotlib inline"
   ]
  },
  {
   "cell_type": "code",
   "execution_count": null,
   "id": "130dfbf0",
   "metadata": {},
   "outputs": [],
   "source": [
    "#this is a custom function to open each dataset\n",
    "def open_fuel_year(fuel_year):\n",
    "    \n",
    "    df = pd.read_csv('./clean_'+str(fuel_year)+'.csv', low_memory=False)\n",
    "    \n",
    "    return df"
   ]
  },
  {
   "cell_type": "code",
   "execution_count": null,
   "id": "6f1ca1e4",
   "metadata": {},
   "outputs": [],
   "source": [
    "clean_df = pd.DataFrame()\n",
    "\n",
    "years = [2008,2018]\n",
    "\n",
    "#join the datasets\n",
    "for fuel_year in years:\n",
    "    clean_df = pd.concat([clean_df, open_fuel_year(fuel_year)])\n",
    "    \n",
    "    print(len(clean_df))\n",
    "clean_df.reset_index(drop=True, inplace=True)"
   ]
  },
  {
   "cell_type": "code",
   "execution_count": null,
   "id": "c00b7d1c",
   "metadata": {},
   "outputs": [],
   "source": [
    "clean_df"
   ]
  },
  {
   "cell_type": "code",
   "execution_count": null,
   "id": "6a6a9a81",
   "metadata": {},
   "outputs": [],
   "source": []
  }
 ],
 "metadata": {
  "kernelspec": {
   "display_name": "Python 3 (ipykernel)",
   "language": "python",
   "name": "python3"
  },
  "language_info": {
   "codemirror_mode": {
    "name": "ipython",
    "version": 3
   },
   "file_extension": ".py",
   "mimetype": "text/x-python",
   "name": "python",
   "nbconvert_exporter": "python",
   "pygments_lexer": "ipython3",
   "version": "3.9.12"
  }
 },
 "nbformat": 4,
 "nbformat_minor": 5
}
